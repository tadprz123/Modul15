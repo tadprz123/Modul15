{
 "cells": [
  {
   "cell_type": "markdown",
   "id": "cbe1004f-2a07-4cbf-8e0f-c8f10eb600d1",
   "metadata": {},
   "source": [
    "# W tym notatniku opiszę jak się definiuje funkcje.\n"
   ]
  },
  {
   "cell_type": "code",
   "execution_count": 16,
   "id": "dd277fbd-2e58-469b-abd4-a8152d707050",
   "metadata": {},
   "outputs": [],
   "source": [
    "def sum(a,b,c):\n",
    "    return a - b + c"
   ]
  },
  {
   "cell_type": "markdown",
   "id": "758c8853-4457-43a1-88f1-11cdda47e4fb",
   "metadata": {},
   "source": [
    "aby wywołać funkcję należy jej użyć w działaniu, podając w nawiasie okrągłym trzy liczby po przecinku. Aby wyświetlić wynik należy użyć print."
   ]
  },
  {
   "cell_type": "code",
   "execution_count": 18,
   "id": "682cf9f1-a3dc-473e-bbfc-11d71992a7c3",
   "metadata": {},
   "outputs": [
    {
     "name": "stdout",
     "output_type": "stream",
     "text": [
      "6\n"
     ]
    }
   ],
   "source": [
    "suma = sum(4,5,7)\n",
    "print(suma)"
   ]
  },
  {
   "cell_type": "markdown",
   "id": "00d5c204-7fcb-46d4-a2ec-05806a0782ae",
   "metadata": {},
   "source": [
    "Proste jak drut kolczasty."
   ]
  }
 ],
 "metadata": {
  "kernelspec": {
   "display_name": "Python 3 (ipykernel)",
   "language": "python",
   "name": "python3"
  },
  "language_info": {
   "codemirror_mode": {
    "name": "ipython",
    "version": 3
   },
   "file_extension": ".py",
   "mimetype": "text/x-python",
   "name": "python",
   "nbconvert_exporter": "python",
   "pygments_lexer": "ipython3",
   "version": "3.12.5"
  }
 },
 "nbformat": 4,
 "nbformat_minor": 5
}
